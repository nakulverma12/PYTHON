{
  "nbformat": 4,
  "nbformat_minor": 0,
  "metadata": {
    "colab": {
      "provenance": []
    },
    "kernelspec": {
      "name": "python3",
      "display_name": "Python 3"
    },
    "language_info": {
      "name": "python"
    }
  },
  "cells": [
    {
      "cell_type": "markdown",
      "source": [
        "1. What is python and why is it popular?\n",
        "\n",
        "* Python is a high level,interpreted programming language . It is popular because it easy to write and learn and it also popular because it is used in many areas for example - Data analysis,Data science ,Web Development,Automation.\n",
        "Python integrated well with other popular programming languages like java, C , C++, allowing fr flexible integration into existing system.It is free platform so anyone can use them.\n",
        "\n",
        "\n",
        "2. What is interpreter in Python?\n",
        "\n",
        "* In Python, an interpreter is a program that reads and executes python code line by line.\n",
        "For Example\n",
        "\n",
        "When you run ths:\n",
        "\n",
        "print(\"Hello, world\").\n",
        "\n",
        "The Python interpreter:\n",
        "\n",
        "1. Reads the Print(\"Hello, world\") line.\n",
        "\n",
        "2. Understands it as a command to display text.\n",
        "\n",
        "3. Sends the output to the screen.\n",
        "\n",
        "Type of Python Interpreters\n",
        "\n",
        "> CPython - The default and most widely used Python interpreter.\n",
        "\n",
        "> PyPy - A fast Compiled interpreter.\n",
        "\n",
        "> Jython - Runs Python on the java Virtual Machine.\n",
        "\n",
        "> IronPython - Python for the NET framework."
      ],
      "metadata": {
        "id": "O-JDzavwtevq"
      }
    },
    {
      "cell_type": "markdown",
      "source": [],
      "metadata": {
        "id": "NFBgX1RL7OXh"
      }
    },
    {
      "cell_type": "markdown",
      "source": [
        "3. What are pre-defined keywords in Python?\n",
        "\n",
        "* Pre - defined keywords in Python are words that are reserved by the Python language because they have special meaning. These Keywords are part of the syntax.\n",
        "\n",
        "For example\n",
        "> if ,else\n",
        "\n",
        "> for , while, break, continue\n",
        "\n",
        "> def, return, lambda\n",
        "\n",
        "> True, False, None\n"
      ],
      "metadata": {
        "id": "JbkpOzD47P8X"
      }
    },
    {
      "cell_type": "markdown",
      "source": [
        "4. Can keywords be used as variable names?\n",
        "\n",
        "No, keywords cannot be used as variable names in most programming languages,including Python, Java, C++,\n",
        "etc.Because the interpreter or compiler uses them to unterstand the structure and logic of your code. Using them as variable names would cause confusion or syntax errors.\n",
        "\n",
        "\n"
      ],
      "metadata": {
        "id": "oa2CXK-ZB8eL"
      }
    },
    {
      "cell_type": "markdown",
      "source": [
        "For Example-"
      ],
      "metadata": {
        "id": "9ZNX6XFOERai"
      }
    },
    {
      "cell_type": "code",
      "source": [
        "if = 5"
      ],
      "metadata": {
        "colab": {
          "base_uri": "https://localhost:8080/",
          "height": 106
        },
        "id": "AcixVRxgEWHQ",
        "outputId": "c5f2573b-18c8-4cd2-e712-11ea8af25815"
      },
      "execution_count": null,
      "outputs": [
        {
          "output_type": "error",
          "ename": "SyntaxError",
          "evalue": "invalid syntax (ipython-input-2418109538.py, line 1)",
          "traceback": [
            "\u001b[0;36m  File \u001b[0;32m\"/tmp/ipython-input-2418109538.py\"\u001b[0;36m, line \u001b[0;32m1\u001b[0m\n\u001b[0;31m    if = 5\u001b[0m\n\u001b[0m       ^\u001b[0m\n\u001b[0;31mSyntaxError\u001b[0m\u001b[0;31m:\u001b[0m invalid syntax\n"
          ]
        }
      ]
    },
    {
      "cell_type": "code",
      "source": [],
      "metadata": {
        "id": "j4WABQXdG1PZ"
      },
      "execution_count": null,
      "outputs": []
    },
    {
      "cell_type": "markdown",
      "source": [
        "5. What is mutability in Python?\n",
        "\n",
        "* Mutability in Python refers to\n",
        "weather or not an object can be changed after it is created.\n",
        "\n",
        "For Examlpe -\n",
        "\n",
        "> lsit\n",
        "\n",
        "> dict\n",
        "\n",
        "> set\n",
        "\n",
        "> bytearray\n"
      ],
      "metadata": {
        "id": "jgkbz33lEoAf"
      }
    },
    {
      "cell_type": "markdown",
      "source": [
        "6. Why are list mutable, but tuples are immutable?\n",
        "\n",
        "\n",
        "* List are mutable because lists are designed to be dynamic and flexible. You often use them when you need to add or remove, Store data that may change over time.\n"
      ],
      "metadata": {
        "id": "vGEcDv2oICcu"
      }
    },
    {
      "cell_type": "markdown",
      "source": [],
      "metadata": {
        "id": "Sx44U6vNLIvn"
      }
    },
    {
      "cell_type": "code",
      "source": [
        "my_list = [1,2,3]\n",
        "my_list[0] = 10\n",
        "my_list.append(4)  #add\n",
        "print(my_list)"
      ],
      "metadata": {
        "colab": {
          "base_uri": "https://localhost:8080/"
        },
        "id": "qyaVeZfSKEDJ",
        "outputId": "5e76d8df-d2a1-4423-b164-9c3e5e0546e7"
      },
      "execution_count": null,
      "outputs": [
        {
          "output_type": "stream",
          "name": "stdout",
          "text": [
            "[10, 2, 3, 4]\n"
          ]
        }
      ]
    },
    {
      "cell_type": "markdown",
      "source": [],
      "metadata": {
        "id": "AAAsCTCQLJsb"
      }
    },
    {
      "cell_type": "markdown",
      "source": [
        "* Tuples are Immutable because Tuples are designed to be fixed collections of items. You use them when data should not change. Once created, you cannot change the contents of a tuple.\n",
        "\n",
        "For Example -"
      ],
      "metadata": {
        "id": "E7SPMn6cLFgG"
      }
    },
    {
      "cell_type": "code",
      "source": [
        "my_tuple = (1,2,3)\n",
        "my_tuple[0] = 10\n"
      ],
      "metadata": {
        "colab": {
          "base_uri": "https://localhost:8080/",
          "height": 159
        },
        "id": "5vcQJeQBM1py",
        "outputId": "1be1b4bf-79d6-4184-9376-1ee60fb3ba73"
      },
      "execution_count": null,
      "outputs": [
        {
          "output_type": "error",
          "ename": "TypeError",
          "evalue": "'tuple' object does not support item assignment",
          "traceback": [
            "\u001b[0;31m---------------------------------------------------------------------------\u001b[0m",
            "\u001b[0;31mTypeError\u001b[0m                                 Traceback (most recent call last)",
            "\u001b[0;32m/tmp/ipython-input-795853129.py\u001b[0m in \u001b[0;36m<cell line: 0>\u001b[0;34m()\u001b[0m\n\u001b[1;32m      1\u001b[0m \u001b[0mmy_tuple\u001b[0m \u001b[0;34m=\u001b[0m \u001b[0;34m(\u001b[0m\u001b[0;36m1\u001b[0m\u001b[0;34m,\u001b[0m\u001b[0;36m2\u001b[0m\u001b[0;34m,\u001b[0m\u001b[0;36m3\u001b[0m\u001b[0;34m)\u001b[0m\u001b[0;34m\u001b[0m\u001b[0;34m\u001b[0m\u001b[0m\n\u001b[0;32m----> 2\u001b[0;31m \u001b[0mmy_tuple\u001b[0m\u001b[0;34m[\u001b[0m\u001b[0;36m0\u001b[0m\u001b[0;34m]\u001b[0m \u001b[0;34m=\u001b[0m \u001b[0;36m10\u001b[0m\u001b[0;34m\u001b[0m\u001b[0;34m\u001b[0m\u001b[0m\n\u001b[0m",
            "\u001b[0;31mTypeError\u001b[0m: 'tuple' object does not support item assignment"
          ]
        }
      ]
    },
    {
      "cell_type": "markdown",
      "source": [],
      "metadata": {
        "id": "mMqj9Vt6NYXU"
      }
    },
    {
      "cell_type": "markdown",
      "source": [
        "7. What is the difference between\"==\" and \"is\" operators in Python?\n",
        "\n",
        "* Equality Operator(==) checks if two objects have the same value. The objects can be  different in memory,but if their values are equal,== returns True.\n",
        "\n",
        "For Example -"
      ],
      "metadata": {
        "id": "j0Q4VlPZNXvW"
      }
    },
    {
      "cell_type": "code",
      "source": [
        "a = [1, 2, 3]\n",
        "b = [1, 2, 3]\n",
        "print(a == b)"
      ],
      "metadata": {
        "colab": {
          "base_uri": "https://localhost:8080/"
        },
        "id": "WaYGzGFsQHUe",
        "outputId": "6787bd1b-359a-423f-e553-25805ddcad47"
      },
      "execution_count": null,
      "outputs": [
        {
          "output_type": "stream",
          "name": "stdout",
          "text": [
            "True\n"
          ]
        }
      ]
    },
    {
      "cell_type": "markdown",
      "source": [],
      "metadata": {
        "id": "g9zwmsbiQdz8"
      }
    },
    {
      "cell_type": "code",
      "source": [],
      "metadata": {
        "id": "9ALuxD0yQiKQ"
      },
      "execution_count": null,
      "outputs": []
    },
    {
      "cell_type": "markdown",
      "source": [
        "* Identity Operator(is) checks if two variables point to the same objet in memory. Returns True only if both variable refer to the exact same object.\n",
        "\n",
        "For Example -"
      ],
      "metadata": {
        "id": "9Naf1F-ZQdZc"
      }
    },
    {
      "cell_type": "code",
      "source": [
        "a = [1, 2, 3]\n",
        "b = [1, 2, 3]\n",
        "print(a is b)"
      ],
      "metadata": {
        "colab": {
          "base_uri": "https://localhost:8080/"
        },
        "id": "n1BreHfIRVpY",
        "outputId": "a4f5fc65-64cc-4f07-86d0-5a9932dfa619"
      },
      "execution_count": null,
      "outputs": [
        {
          "output_type": "stream",
          "name": "stdout",
          "text": [
            "False\n"
          ]
        }
      ]
    },
    {
      "cell_type": "markdown",
      "source": [],
      "metadata": {
        "id": "aVze7EU0R64l"
      }
    },
    {
      "cell_type": "markdown",
      "source": [
        "8. What are logical operator in Python?\n",
        "\n",
        "In Python, logical operators are used to combine conditional statements.\n",
        "\n",
        "There are three main logical operators in Python:\n",
        "\n",
        "1. and\n",
        "\n",
        "* Returns True if both conditions are true.\n",
        "\n",
        "For Example -\n"
      ],
      "metadata": {
        "id": "FQWdofgDR8jA"
      }
    },
    {
      "cell_type": "code",
      "source": [
        "x = 5\n",
        "print(x > 2 and x < 10)"
      ],
      "metadata": {
        "colab": {
          "base_uri": "https://localhost:8080/"
        },
        "id": "OFFug4XlxC_l",
        "outputId": "23541300-de98-468c-d108-98f0574f8b3c"
      },
      "execution_count": null,
      "outputs": [
        {
          "output_type": "stream",
          "name": "stdout",
          "text": [
            "True\n"
          ]
        }
      ]
    },
    {
      "cell_type": "markdown",
      "source": [],
      "metadata": {
        "id": "57eTsx6Exmtp"
      }
    },
    {
      "cell_type": "markdown",
      "source": [
        "2. or\n",
        "\n",
        "* Returns True if at least one condition is ture.\n",
        "\n",
        "For Example -\n"
      ],
      "metadata": {
        "id": "XKX3NSaLxof-"
      }
    },
    {
      "cell_type": "code",
      "source": [
        "x = 5\n",
        "print(x > 2 or x < 10)"
      ],
      "metadata": {
        "colab": {
          "base_uri": "https://localhost:8080/"
        },
        "id": "0ujwYydlyFTn",
        "outputId": "801a7333-1534-4462-fbf5-22d08ce48625"
      },
      "execution_count": null,
      "outputs": [
        {
          "output_type": "stream",
          "name": "stdout",
          "text": [
            "True\n"
          ]
        }
      ]
    },
    {
      "cell_type": "markdown",
      "source": [],
      "metadata": {
        "id": "6Ocon35KyS5N"
      }
    },
    {
      "cell_type": "markdown",
      "source": [
        "3. not\n",
        "\n",
        "* Reverses the result.\n",
        "\n",
        "For Example -\n"
      ],
      "metadata": {
        "id": "K3yS_T26ySqf"
      }
    },
    {
      "cell_type": "code",
      "source": [
        "x = 5\n",
        "print(not(x > 2 and x < 10))"
      ],
      "metadata": {
        "colab": {
          "base_uri": "https://localhost:8080/"
        },
        "id": "1nsFOVVsyuFS",
        "outputId": "3f351e00-e4e1-4203-abef-4465f27f8ac2"
      },
      "execution_count": null,
      "outputs": [
        {
          "output_type": "stream",
          "name": "stdout",
          "text": [
            "False\n"
          ]
        }
      ]
    },
    {
      "cell_type": "markdown",
      "source": [],
      "metadata": {
        "id": "D2otPT5sy805"
      }
    },
    {
      "cell_type": "markdown",
      "source": [
        "9. What is type casting in Python?\n",
        "\n",
        "* Type casting in python means converting one data type into another using built-in functions.\n",
        "\n",
        "There are two types of type casting:\n",
        "\n",
        "1. Implicit Type Casting (Type Conversion)\n",
        "\n",
        "* Done automatically by Python.\n",
        "\n",
        "For Example -\n"
      ],
      "metadata": {
        "id": "5PzI5wbzy9mi"
      }
    },
    {
      "cell_type": "code",
      "source": [
        "x = 5\n",
        "y = 2.5\n",
        "result = x + y\n",
        "print(result)\n",
        "print(type(result))"
      ],
      "metadata": {
        "colab": {
          "base_uri": "https://localhost:8080/"
        },
        "id": "lUMjsnNH6ev2",
        "outputId": "f06b1fdd-e560-4fe4-c55a-84c6c5b35487"
      },
      "execution_count": null,
      "outputs": [
        {
          "output_type": "stream",
          "name": "stdout",
          "text": [
            "7.5\n",
            "<class 'float'>\n"
          ]
        }
      ]
    },
    {
      "cell_type": "markdown",
      "source": [],
      "metadata": {
        "id": "nvME3Sd662Nf"
      }
    },
    {
      "cell_type": "markdown",
      "source": [
        "2. Explicit Type Casting (Type Casting)\n",
        "\n",
        "* Done manually by the programmer using funtions like int(), float(), str(), etc.\n",
        "\n",
        "For Example -\n"
      ],
      "metadata": {
        "id": "Uq5I5nb27BLq"
      }
    },
    {
      "cell_type": "code",
      "source": [
        "a = \"10\"\n",
        "b = int(a)\n",
        "print(b, type(b))"
      ],
      "metadata": {
        "colab": {
          "base_uri": "https://localhost:8080/"
        },
        "id": "DDNoTLRa7uC9",
        "outputId": "c8f5bc89-1fc2-4766-b650-3e4ab067d11a"
      },
      "execution_count": null,
      "outputs": [
        {
          "output_type": "stream",
          "name": "stdout",
          "text": [
            "10 <class 'int'>\n"
          ]
        }
      ]
    },
    {
      "cell_type": "markdown",
      "source": [],
      "metadata": {
        "id": "7WweJuk58Cqc"
      }
    },
    {
      "cell_type": "markdown",
      "source": [
        "10. What is the difference between implicit and explicit type casting?\n",
        "\n",
        "(1) Implicit Type Casting(Type Conversion/Type Promotion)\n",
        "\n",
        "* Done automatically by Python.\n",
        "\n",
        "* Happens When you perform operations between different data types.\n",
        "\n",
        "* Python converts the smaller/compations data type into a large one to avoid data loss.\n",
        "\n",
        "* Also called type promotion.\n",
        "\n",
        "For Example -\n"
      ],
      "metadata": {
        "id": "kS4LGf6P8BNe"
      }
    },
    {
      "cell_type": "code",
      "source": [
        "a = 5           # int\n",
        "b = 2.5         # float\n",
        "result = a + b\n",
        "print (result)\n",
        "print(type(result))"
      ],
      "metadata": {
        "colab": {
          "base_uri": "https://localhost:8080/"
        },
        "id": "8jdhMg4wNEJI",
        "outputId": "97666d58-77ec-4213-e49e-8adeaa2c5d2d"
      },
      "execution_count": null,
      "outputs": [
        {
          "output_type": "stream",
          "name": "stdout",
          "text": [
            "7.5\n",
            "<class 'float'>\n"
          ]
        }
      ]
    },
    {
      "cell_type": "markdown",
      "source": [],
      "metadata": {
        "id": "031YWGAcNlmx"
      }
    },
    {
      "cell_type": "markdown",
      "source": [
        "(2) Explicit Type Casting (Type Conversion by User)\n",
        "\n",
        "* Done manually by the programmer.\n",
        "\n",
        "* We use built-in functions like int(), float(), str(), list(), etc.\n",
        "\n",
        "* Useful when we want to force a conversion.\n",
        "\n",
        "For Example -\n"
      ],
      "metadata": {
        "id": "xaH-PwwhNlR7"
      }
    },
    {
      "cell_type": "code",
      "source": [
        "x = \"100\"        # string\n",
        "y = int(x)       # explicit casting\n",
        "print(y + 50)\n"
      ],
      "metadata": {
        "colab": {
          "base_uri": "https://localhost:8080/"
        },
        "id": "1gG3qrKiO5U0",
        "outputId": "37eb6891-f622-4d69-8932-937baa9b375c"
      },
      "execution_count": null,
      "outputs": [
        {
          "output_type": "stream",
          "name": "stdout",
          "text": [
            "150\n"
          ]
        }
      ]
    },
    {
      "cell_type": "markdown",
      "source": [],
      "metadata": {
        "id": "0fMT1T9dPVOQ"
      }
    },
    {
      "cell_type": "markdown",
      "source": [
        "11. what is the purpose of conditional statements in Python?\n",
        "\n",
        "* Decision Making - They let the program choose different paths of execution based on conditions.\n",
        "\n",
        "* Control Flow - They control the order in which statements are executed.\n",
        "\n",
        "* Flexibility - They make programs more dynamic and interactive by responding differently to different inputs.\n",
        "\n",
        "* Error Handling / validation - Conditions can check whether inputs are valid before proceeding.\n",
        "\n",
        "For Example -\n"
      ],
      "metadata": {
        "id": "rRfXmS2VPUb3"
      }
    },
    {
      "cell_type": "code",
      "source": [
        "age = 18\n",
        "\n",
        "if age >= 18:\n",
        "  print(\"you are an adult.\")      # Runs if condition is ture\n",
        "else:\n",
        "  print(\"you are a minor.\")       # Runs if condition is false"
      ],
      "metadata": {
        "colab": {
          "base_uri": "https://localhost:8080/"
        },
        "id": "z0mpB8qTkKyx",
        "outputId": "21986d38-1f31-4439-fee1-621632ec3eb4"
      },
      "execution_count": null,
      "outputs": [
        {
          "output_type": "stream",
          "name": "stdout",
          "text": [
            "you are an adult.\n"
          ]
        }
      ]
    },
    {
      "cell_type": "code",
      "source": [],
      "metadata": {
        "id": "X2CoyYyakGvQ"
      },
      "execution_count": null,
      "outputs": []
    },
    {
      "cell_type": "markdown",
      "source": [
        "12. How does the elif statement work?\n",
        "\n",
        "\n",
        "* If youn you want to check multiple conditions one after another then we use elif statement(shorts for else if).\n",
        "\n",
        "(1) Python checks the first if condition.\n",
        "\n",
        "*  If it's Ture, that block runs, and the rest are skipped.\n",
        "\n",
        "* If it's False, Python moves to the elif.\n",
        "\n",
        "(2) Python checks the elif condition.\n",
        "\n",
        "* If it's Ture,that block runs, and the rest are skipped.\n",
        "\n",
        "* If it's False, Python continues checking more elif.\n",
        "\n",
        "(3) If no if or elif conditions are True, the else block runs.\n",
        "\n",
        "For Example -\n"
      ],
      "metadata": {
        "id": "mO6mMtI7mTF7"
      }
    },
    {
      "cell_type": "code",
      "source": [
        "marks = 72\n",
        "\n",
        "if marks >= 90:\n",
        "  print(\"Grade: A\")\n",
        "elif marks >= 75:\n",
        "  print(\"Grade: B\")\n",
        "elif marks >= 50:\n",
        "  print(\"Grade: C\")\n",
        "else:\n",
        "  print(\"Grade: F\")"
      ],
      "metadata": {
        "colab": {
          "base_uri": "https://localhost:8080/"
        },
        "id": "xxbNhW1OqNlp",
        "outputId": "bfec2c07-2acc-45b5-e87d-7ab2fe20f6e5"
      },
      "execution_count": null,
      "outputs": [
        {
          "output_type": "stream",
          "name": "stdout",
          "text": [
            "Grade: C\n"
          ]
        }
      ]
    },
    {
      "cell_type": "markdown",
      "source": [],
      "metadata": {
        "id": "zxm7o3EfLj0o"
      }
    },
    {
      "cell_type": "markdown",
      "source": [
        "13. What is the difference between for and while loops?\n",
        "\n",
        "* For Loop -\n",
        "\n",
        "For loop used when you know in advance how many times you want to repeat something. Commonly used to iterate over a sequence.\n",
        "\n",
        "For Example -\n"
      ],
      "metadata": {
        "id": "4LT5m6xDLjfp"
      }
    },
    {
      "cell_type": "code",
      "source": [
        "for i in range(5):\n",
        "  print(\"Hello\", i)        # Here i = 0 to i = 4\n"
      ],
      "metadata": {
        "colab": {
          "base_uri": "https://localhost:8080/"
        },
        "id": "JnC4LDrwNIcq",
        "outputId": "1b24c993-c71a-441d-a2eb-586b1fe71d35"
      },
      "execution_count": null,
      "outputs": [
        {
          "output_type": "stream",
          "name": "stdout",
          "text": [
            "Hello 0\n",
            "Hello 1\n",
            "Hello 2\n",
            "Hello 3\n",
            "Hello 4\n"
          ]
        }
      ]
    },
    {
      "cell_type": "markdown",
      "source": [
        "\n",
        "* While Loop -\n",
        "\n",
        "While loop used when you don't know beforehand how many times you'll loop. It continues running as long as a condition is Ture.\n",
        "\n",
        "For Example -\n"
      ],
      "metadata": {
        "id": "h1WGuVq4Nuf4"
      }
    },
    {
      "cell_type": "code",
      "source": [
        "i = 0\n",
        "while i < 5:     # Until i is no longer less than 5\n",
        "  print(\"Hello\",i)\n",
        "  i += 1"
      ],
      "metadata": {
        "colab": {
          "base_uri": "https://localhost:8080/"
        },
        "id": "YmWLV51pPGzX",
        "outputId": "d6b574f6-c64e-4bf6-a8e2-3e5defdbf8a1"
      },
      "execution_count": null,
      "outputs": [
        {
          "output_type": "stream",
          "name": "stdout",
          "text": [
            "Hello 0\n",
            "Hello 1\n",
            "Hello 2\n",
            "Hello 3\n",
            "Hello 4\n"
          ]
        }
      ]
    },
    {
      "cell_type": "markdown",
      "source": [
        "\n",
        "14. Describe a scenario where a while loop is more suitable than a for loop.\n",
        "\n",
        "* A while loop is more suitable when you don't know in advance how many times the loop should run, and the repetition depends on a condition being true rather than a fixed range.\n",
        "\n",
        "For Examplen -\n",
        "\n",
        "Imagine you are waiting at a bus stop. You don't know how many minutes you'll have to wait. You'll keep waiting while there is no bus. Once the bus arrives, you stop waiting and get on. This is just like a while loop.\n"
      ],
      "metadata": {
        "id": "4_gNrKreP35l"
      }
    },
    {
      "cell_type": "code",
      "source": [
        "bus_arrived = False\n",
        "\n",
        "while not bus_arrived:\n",
        "  print(\"waiting for the bus...\")\n",
        "\n",
        "  bus_arrived = True\n",
        "\n",
        "  print(\"Bus arrived! Get on.\")"
      ],
      "metadata": {
        "colab": {
          "base_uri": "https://localhost:8080/"
        },
        "id": "F5KqV0eUWWbv",
        "outputId": "d27bd8ae-6c7f-48e9-ac0c-e50de0390a22"
      },
      "execution_count": null,
      "outputs": [
        {
          "output_type": "stream",
          "name": "stdout",
          "text": [
            "waiting for the bus...\n",
            "Bus arrived! Get on.\n"
          ]
        }
      ]
    },
    {
      "cell_type": "markdown",
      "source": [
        "If you used a for loop, you'd have to decide ahead of time how many minutes to wait (like 10 times or 20 times). But in real life, you can't predict the exact number so the while loop fits better."
      ],
      "metadata": {
        "id": "mOuuu5ODX-Wo"
      }
    },
    {
      "cell_type": "markdown",
      "source": [
        "**PRACTICAL QUESTIONS**"
      ],
      "metadata": {
        "id": "Jb0fBJQVYksI"
      }
    },
    {
      "cell_type": "markdown",
      "source": [
        "1. Write a Python program to print \"Hello World!\".\n"
      ],
      "metadata": {
        "id": "9X_KeH1NZgSG"
      }
    },
    {
      "cell_type": "code",
      "source": [
        "\n",
        "# Program for print \"Hello World!\"\n",
        "\n",
        "A = \"Hello World!\"\n",
        "print(A)"
      ],
      "metadata": {
        "colab": {
          "base_uri": "https://localhost:8080/"
        },
        "id": "KHSivKc9aLEh",
        "outputId": "287f1c85-5137-440b-c35a-741b25b5516b"
      },
      "execution_count": null,
      "outputs": [
        {
          "output_type": "stream",
          "name": "stdout",
          "text": [
            "Hello World!\n"
          ]
        }
      ]
    },
    {
      "cell_type": "markdown",
      "source": [
        "\n",
        "2. Write a Python program that displays your name and age."
      ],
      "metadata": {
        "id": "9IsUSYxevn-p"
      }
    },
    {
      "cell_type": "code",
      "source": [
        "\n",
        "# Program for displays your name and age:\n",
        "\n",
        "name = input(\"name:\")\n",
        "age = input(\"age:\")\n",
        "\n",
        "print(\"My name is\", name)\n",
        "print(\"I am\", age,\"years old.\")"
      ],
      "metadata": {
        "colab": {
          "base_uri": "https://localhost:8080/"
        },
        "id": "PQehIStj1N0G",
        "outputId": "576d8ca2-bf3a-4481-bb0f-f8de6aa57132"
      },
      "execution_count": null,
      "outputs": [
        {
          "output_type": "stream",
          "name": "stdout",
          "text": [
            "name:Nakul kumar Verma\n",
            "age:25\n",
            "My name is Nakul kumar Verma\n",
            "I am 25 years old.\n"
          ]
        }
      ]
    },
    {
      "cell_type": "markdown",
      "source": [
        "\n",
        "3. Write code to print all the pre - defined keywords in Python using the keyword library."
      ],
      "metadata": {
        "id": "rkLY64WK4zpp"
      }
    },
    {
      "cell_type": "code",
      "source": [
        "# Program for print all the pre-defined keywords in Python\n",
        "\n",
        "import keyword\n",
        "\n",
        "print(\"list of python keywords:\\n\")\n",
        "for kw in keyword.kwlist:\n",
        "  print(kw)"
      ],
      "metadata": {
        "colab": {
          "base_uri": "https://localhost:8080/"
        },
        "id": "O1rHvTdJ6LpR",
        "outputId": "a5ce2a8d-0697-4564-e66d-2def14284903"
      },
      "execution_count": null,
      "outputs": [
        {
          "output_type": "stream",
          "name": "stdout",
          "text": [
            "list of python keywords:\n",
            "\n",
            "False\n",
            "None\n",
            "True\n",
            "and\n",
            "as\n",
            "assert\n",
            "async\n",
            "await\n",
            "break\n",
            "class\n",
            "continue\n",
            "def\n",
            "del\n",
            "elif\n",
            "else\n",
            "except\n",
            "finally\n",
            "for\n",
            "from\n",
            "global\n",
            "if\n",
            "import\n",
            "in\n",
            "is\n",
            "lambda\n",
            "nonlocal\n",
            "not\n",
            "or\n",
            "pass\n",
            "raise\n",
            "return\n",
            "try\n",
            "while\n",
            "with\n",
            "yield\n"
          ]
        }
      ]
    },
    {
      "cell_type": "code",
      "source": [
        "help('keywords')"
      ],
      "metadata": {
        "colab": {
          "base_uri": "https://localhost:8080/"
        },
        "id": "Xa-YQ-jseslC",
        "outputId": "18539218-29ec-443d-c3b2-b1eb138904ae"
      },
      "execution_count": null,
      "outputs": [
        {
          "output_type": "stream",
          "name": "stdout",
          "text": [
            "\n",
            "Here is a list of the Python keywords.  Enter any keyword to get more help.\n",
            "\n",
            "False               class               from                or\n",
            "None                continue            global              pass\n",
            "True                def                 if                  raise\n",
            "and                 del                 import              return\n",
            "as                  elif                in                  try\n",
            "assert              else                is                  while\n",
            "async               except              lambda              with\n",
            "await               finally             nonlocal            yield\n",
            "break               for                 not                 \n",
            "\n"
          ]
        }
      ]
    },
    {
      "cell_type": "markdown",
      "source": [
        "\n",
        "4. Write a program that checks if a given word is a Python keywords.\n"
      ],
      "metadata": {
        "id": "eSkFjhNufAnX"
      }
    },
    {
      "cell_type": "code",
      "source": [
        "# Profram for that checks if a given word is a Python keywords\n",
        "\n",
        "import keyword\n",
        "\n",
        "word = input(\"Word\")\n",
        "\n",
        "if keyword.iskeyword(word):\n",
        "  print(f\"'{word}' is a python keyword.\")\n",
        "else:\n",
        "  print(f\"'{word}' is Not a Python keyword.\")"
      ],
      "metadata": {
        "colab": {
          "base_uri": "https://localhost:8080/"
        },
        "id": "vnOGUrw4Yuim",
        "outputId": "3bd0addb-7b9f-497f-d59d-d6a2b39923b1"
      },
      "execution_count": null,
      "outputs": [
        {
          "output_type": "stream",
          "name": "stdout",
          "text": [
            "WordWorld\n",
            "'World' is Not a Python keyword.\n"
          ]
        }
      ]
    },
    {
      "cell_type": "markdown",
      "source": [
        "\n",
        "5. Creat a list and tuple in Python, and demonstrate how attempting to change an element works differently\n",
        "for each.\n"
      ],
      "metadata": {
        "id": "UCMBRahBa2uO"
      }
    },
    {
      "cell_type": "code",
      "source": [
        "# Creat a list and tuple in Python, and demonstrate how to attemping to change an element works differently for each\n",
        "\n",
        "# Creating a list\n",
        "\n",
        "my_list = [11, 22, 33, 44, 55]\n",
        "print(\"Original List:\", my_list)\n",
        "\n",
        "# Modifying an element is the list\n",
        "\n",
        "my_list[3] = 400\n",
        "print(\"Modified List:\", my_list)\n",
        "\n",
        "# Creating a tuple\n",
        "\n",
        "my_tuple = (11, 22, 33, 44,55)\n",
        "print(\"\\n Original Tuple:\", my_tuple)\n",
        "\n",
        "# Trying to modify an element in the tuple\n",
        "\n",
        "try:\n",
        "  my_tuple[3] = 400\n",
        "except TypeError as e:\n",
        "  print(\"Error while modifying tuple:\", e)"
      ],
      "metadata": {
        "colab": {
          "base_uri": "https://localhost:8080/"
        },
        "id": "c-IkqXFJb1zJ",
        "outputId": "844b0f3d-a0b8-4035-e0c0-33825fe0b664"
      },
      "execution_count": null,
      "outputs": [
        {
          "output_type": "stream",
          "name": "stdout",
          "text": [
            "Original List: [11, 22, 33, 44, 55]\n",
            "Modified List: [11, 22, 33, 400, 55]\n",
            "\n",
            " Original Tuple: (11, 22, 33, 44, 55)\n",
            "Error while modifying tuple: 'tuple' object does not support item assignment\n"
          ]
        }
      ]
    },
    {
      "cell_type": "markdown",
      "source": [
        "\n",
        "6. Write a function to demonstrate the behaviour of mutable and immutable arguments.\n"
      ],
      "metadata": {
        "id": "GfxlDw7AhO-J"
      }
    },
    {
      "cell_type": "code",
      "source": [
        "x = 50\n",
        "y = [1,2,3]\n",
        "z = (10, 20, 30)\n",
        "\n",
        "print(\"Before calling function:\")\n",
        "print(\"x =\", x, \"| y =\", y, \"| z =\", z)\n",
        "print(\"-\" * 50)\n",
        "\n",
        "print(\"After calling function:\")\n",
        "print(\"x =\", x, \"| y =\", y, \"| z =\", z)\n"
      ],
      "metadata": {
        "colab": {
          "base_uri": "https://localhost:8080/"
        },
        "id": "cNhnLrh3htpm",
        "outputId": "7b32246a-57a5-45d5-e66d-21d5a7b1918c"
      },
      "execution_count": null,
      "outputs": [
        {
          "output_type": "stream",
          "name": "stdout",
          "text": [
            "Before calling function:\n",
            "x = 50 | y = [1, 2, 3] | z = (10, 20, 30)\n",
            "--------------------------------------------------\n",
            "After calling function:\n",
            "x = 50 | y = [1, 2, 3] | z = (10, 20, 30)\n"
          ]
        }
      ]
    },
    {
      "cell_type": "markdown",
      "source": [
        "\n",
        "7. Write a program that performs basic arithmetic operations on two user - input numbers.\n"
      ],
      "metadata": {
        "id": "qo5WZZifmjI-"
      }
    },
    {
      "cell_type": "code",
      "source": [
        "# Program to perform basic arithmetic operations\n",
        "\n",
        "num1 = int(input(\"Enter the first Number: \"))\n",
        "num2 = int(input(\"Enter the second number: \"))\n",
        "1\n",
        "# Addition\n",
        "addition = num1 + num2\n",
        "\n",
        "# Subtraction\n",
        "subtraction = num1 - num2\n",
        "\n",
        "# Multiplication\n",
        "multiplication = num1 * num2\n",
        "\n",
        "# Division\n",
        "division = num2 / num1\n",
        "\n",
        "print(\"\\n Result:\")\n",
        "\n",
        "print(f\"Addition: {num1} + {num2} = {addition}\")\n",
        "\n",
        "print(f\"Subtraction: {num1} - {num2} = {subtraction}\")\n",
        "\n",
        "print(f\"Multiplication: {num1} * {num2} = {multiplication}\")\n",
        "\n",
        "print(f\"Division: {num2} / {num1} = {division}\")\n"
      ],
      "metadata": {
        "colab": {
          "base_uri": "https://localhost:8080/"
        },
        "id": "ShI6mkAQuzT2",
        "outputId": "4e365b6a-c420-4b1f-9a75-e2e3127fd7e6"
      },
      "execution_count": null,
      "outputs": [
        {
          "output_type": "stream",
          "name": "stdout",
          "text": [
            "Enter the first Number: 50\n",
            "Enter the second number: 150\n",
            "\n",
            " Result:\n",
            "Addition: 50 + 150 = 200\n",
            "Subtraction: 50 - 150 = -100\n",
            "Multiplication: 50 * 150 = 7500\n",
            "Division: 150 / 50 = 3.0\n"
          ]
        }
      ]
    },
    {
      "cell_type": "markdown",
      "source": [
        "\n",
        "8. Write a program to demonstrate the use of logical operators.\n"
      ],
      "metadata": {
        "id": "QzPjKU9ZzNUN"
      }
    },
    {
      "cell_type": "code",
      "source": [
        "# Program to demonstrate the use of logical operators\n",
        "\n",
        "a = int(input(\"Enter first number: \"))\n",
        "b = int(input(\"Enter second number: \"))\n",
        "\n",
        "print(\"\\n Logical Operators: \")\n",
        "\n",
        "# And Operator\n",
        "print(f\"Is {a} > 0 AND {b} > 0? : {a > 0 and b > 0}\")\n",
        "\n",
        "# Or Operator\n",
        "print(f\"Is {a} > 0 OR {b} > 0? : {a > 0 or b > 0}\")\n",
        "\n",
        "# Not Operator\n",
        "print(f\"Is NOT {a} > 0? : {not(a > b)}\")\n"
      ],
      "metadata": {
        "colab": {
          "base_uri": "https://localhost:8080/"
        },
        "id": "2tJaiGigzpPn",
        "outputId": "e0c80dc8-fdfe-4fe6-c80a-cd254cae0d49"
      },
      "execution_count": null,
      "outputs": [
        {
          "output_type": "stream",
          "name": "stdout",
          "text": [
            "Enter first number: 10\n",
            "Enter second number: 20\n",
            "\n",
            " Logical Operators: \n",
            "Is 10 > 0 AND 20 > 0? : True\n",
            "Is 10 > 0 OR 20 > 0? : True\n",
            "Is NOT 10 > 0? : True\n"
          ]
        }
      ]
    },
    {
      "cell_type": "markdown",
      "source": [
        "\n",
        "9. Write a Python program to convert user input from string to integer, float, and boolean types.\n"
      ],
      "metadata": {
        "id": "K5vRTV5oMb5v"
      }
    },
    {
      "cell_type": "code",
      "source": [
        "# Program to convert user input into different data types\n",
        "\n",
        "user_input = input(\"Enter a Value: \")\n",
        "\n",
        "# Convert to integer\n",
        "try:\n",
        "  int_value = int(user_input)\n",
        "  print(\"Integer value:\", int_value)\n",
        "except ValueError:\n",
        "  print(\"cannot convert to integer.\")\n",
        "\n",
        "# Convert to float\n",
        "try:\n",
        "  float_value = float(user_input)\n",
        "  print(\"Float value:\", float_value)\n",
        "except ValueError:\n",
        "  print(\"cannot convert to float.\")\n",
        "\n",
        "# Convert to boolean\n",
        "bool_value = bool(user_input)\n",
        "print(\"Boolean value:\", bool_value)"
      ],
      "metadata": {
        "colab": {
          "base_uri": "https://localhost:8080/"
        },
        "id": "qgfLbsEwTgYt",
        "outputId": "467de91d-c1b1-44cf-c073-88bf1640a55f"
      },
      "execution_count": null,
      "outputs": [
        {
          "output_type": "stream",
          "name": "stdout",
          "text": [
            "Enter a Value: 10\n",
            "Integer value: 10\n",
            "Float value: 10.0\n",
            "Boolean value: True\n"
          ]
        }
      ]
    },
    {
      "cell_type": "markdown",
      "source": [
        "\n",
        "10. Write code to demonstrate type casting with list elements."
      ],
      "metadata": {
        "id": "xXhmnSNKXVNI"
      }
    },
    {
      "cell_type": "code",
      "source": [
        "\n",
        "# Code to demonstrate type casting with list elements\n",
        "\n",
        "numbers = [\"10\", \"20\", \"30\", \"40\", \"50\" ]\n",
        "\n",
        "print(\"original list (strings):\", numbers)\n",
        "\n",
        "# Convert to integers\n",
        "int_list = [int(x) for x in numbers]\n",
        "print(\"List after casting to integer:\", int_list)\n",
        "\n",
        "# Convert to floats\n",
        "float_list = [float(x) for x in numbers]\n",
        "print(\"List after casting to floats:\", float_list)\n",
        "\n",
        "# Convert to booleans\n",
        "\n",
        "bool_list = [bool(x) for x in numbers]\n",
        "print(\"List after casting to booleans:\", bool_list)\n",
        "\n"
      ],
      "metadata": {
        "colab": {
          "base_uri": "https://localhost:8080/"
        },
        "id": "bcGWWZLVgdpK",
        "outputId": "330835cf-b92c-4d0c-909e-b218e16e34cb"
      },
      "execution_count": null,
      "outputs": [
        {
          "output_type": "stream",
          "name": "stdout",
          "text": [
            "original list (strings): ['10', '20', '30', '40', '50']\n",
            "List after casting to integer: [10, 20, 30, 40, 50]\n",
            "List after casting to floats: [10.0, 20.0, 30.0, 40.0, 50.0]\n",
            "List after casting to booleans: [True, True, True, True, True]\n"
          ]
        }
      ]
    },
    {
      "cell_type": "markdown",
      "source": [
        "\n",
        "11. Write a program that checks if a number is positive, negative, or zero."
      ],
      "metadata": {
        "id": "AOZwd7yFnV59"
      }
    },
    {
      "cell_type": "code",
      "source": [
        "\n",
        "# Program that check if a number is positive, negative, or zero\n",
        "\n",
        "num = int(input(\"Enter a number: \"))\n",
        "\n",
        "if num > 0:\n",
        "  print(\"The number is Positive.\")\n",
        "elif num < 0:\n",
        "  print(\"The number is Negative.\")\n",
        "else:\n",
        "  print(\"The number is Zero.\")"
      ],
      "metadata": {
        "colab": {
          "base_uri": "https://localhost:8080/"
        },
        "id": "ZwQgQ5iztKta",
        "outputId": "9b9d9740-f0cd-4e4e-bde7-e32dce9a87a7"
      },
      "execution_count": null,
      "outputs": [
        {
          "output_type": "stream",
          "name": "stdout",
          "text": [
            "Enter a number: 20\n",
            "The number is Positive.\n"
          ]
        }
      ]
    },
    {
      "cell_type": "markdown",
      "source": [
        "\n",
        "12. Write a for loop to print number from 1 to 10."
      ],
      "metadata": {
        "id": "a26XQnX5uThz"
      }
    },
    {
      "cell_type": "code",
      "source": [
        "# For loop to print number from 1 to 10\n",
        "\n",
        "for i in range(1, 11):\n",
        "  print(i)"
      ],
      "metadata": {
        "colab": {
          "base_uri": "https://localhost:8080/"
        },
        "id": "hMeAJC08_3BR",
        "outputId": "10d2cd39-1f50-4e69-f02c-f0720bd38067"
      },
      "execution_count": null,
      "outputs": [
        {
          "output_type": "stream",
          "name": "stdout",
          "text": [
            "1\n",
            "2\n",
            "3\n",
            "4\n",
            "5\n",
            "6\n",
            "7\n",
            "8\n",
            "9\n",
            "10\n"
          ]
        }
      ]
    },
    {
      "cell_type": "markdown",
      "source": [
        "\n",
        "13. Write a Python program to find the sum of all even numbers between 1 to 50.\n"
      ],
      "metadata": {
        "id": "zxCujR39BLep"
      }
    },
    {
      "cell_type": "code",
      "source": [
        "# Pyhton program to find the sun of all even number between 1 to 50\n",
        "\n",
        "total = 0\n",
        "\n",
        "for num in range(2, 53, 2):\n",
        "   total += num\n",
        "\n",
        "print(\"sum of even numbers between 1 to 50 is:\", total)"
      ],
      "metadata": {
        "colab": {
          "base_uri": "https://localhost:8080/"
        },
        "id": "cOKKgYYGB9_i",
        "outputId": "26fe842c-a611-40df-b5d3-23c93cfa5abc"
      },
      "execution_count": null,
      "outputs": [
        {
          "output_type": "stream",
          "name": "stdout",
          "text": [
            "sum of even numbers between 1 to 50 is: 702\n"
          ]
        }
      ]
    },
    {
      "cell_type": "markdown",
      "source": [
        "\n",
        "14. Write a program to reverse a string using a while loop."
      ],
      "metadata": {
        "id": "B-ku6UUJDaSq"
      }
    },
    {
      "cell_type": "code",
      "source": [
        "\n",
        "# Program to reverse a string using a while loop.\n",
        "\n",
        "text = input(\"Enter a string:\")\n",
        "reversed_text = \"\"\n",
        "\n",
        "i = 0\n",
        "while i < len(text):\n",
        "  reversed_text = text[i] + reversed_text\n",
        "  i += 1\n",
        "\n",
        "  print(\"Reversed sting:\", reversed_text)"
      ],
      "metadata": {
        "colab": {
          "base_uri": "https://localhost:8080/"
        },
        "id": "s-Ygcfp0ED9A",
        "outputId": "435a4575-e71d-4590-e728-37182f4e157e"
      },
      "execution_count": null,
      "outputs": [
        {
          "output_type": "stream",
          "name": "stdout",
          "text": [
            "Enter a string:Animal\n",
            "Reversed sting: A\n",
            "Reversed sting: nA\n",
            "Reversed sting: inA\n",
            "Reversed sting: minA\n",
            "Reversed sting: aminA\n",
            "Reversed sting: laminA\n"
          ]
        }
      ]
    },
    {
      "cell_type": "markdown",
      "source": [
        "15. Write a Python program to calculate the factorial of a number provided by the user using a while loop."
      ],
      "metadata": {
        "id": "POKs9fijFGPj"
      }
    },
    {
      "cell_type": "code",
      "source": [
        "# Python program to calculate the factorial of  a number provided by the user using a while loop\n",
        "\n",
        "num = int(input(\"Enter a number: \"))\n",
        "factorial = 1\n",
        "i = 1\n",
        "\n",
        "while i <= num:\n",
        "  factorial *= i\n",
        "  i += 1\n",
        "\n",
        "  print(\"Factorial of\", num, \"is:\", factorial)"
      ],
      "metadata": {
        "colab": {
          "base_uri": "https://localhost:8080/"
        },
        "id": "2s-yy3aEFqlI",
        "outputId": "c388dfbf-e1e6-4958-b5ba-fed673271237"
      },
      "execution_count": null,
      "outputs": [
        {
          "output_type": "stream",
          "name": "stdout",
          "text": [
            "Enter a number: 8\n",
            "Factorial of 8 is: 1\n",
            "Factorial of 8 is: 2\n",
            "Factorial of 8 is: 6\n",
            "Factorial of 8 is: 24\n",
            "Factorial of 8 is: 120\n",
            "Factorial of 8 is: 720\n",
            "Factorial of 8 is: 5040\n",
            "Factorial of 8 is: 40320\n"
          ]
        }
      ]
    },
    {
      "cell_type": "markdown",
      "source": [
        "Name          = Nakul kumar verma\n",
        "\n",
        "Course        = Data Analytics\n",
        "\n",
        "Assignment  = Python Basics"
      ],
      "metadata": {
        "id": "vAgweiM5G_sD"
      }
    }
  ]
}